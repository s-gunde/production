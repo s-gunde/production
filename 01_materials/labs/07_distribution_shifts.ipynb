{
 "cells": [
  {
   "cell_type": "markdown",
   "metadata": {},
   "source": [
    "# Distribution Shifts\n",
    "\n",
    "+ Consider our stock data. \n",
    "+ We are interested in testing changes in return distribution for our sample data around the time of the onset of the COVID 19 pandemic."
   ]
  },
  {
   "cell_type": "code",
   "execution_count": 1,
   "metadata": {},
   "outputs": [],
   "source": [
    "%load_ext dotenv\n",
    "%dotenv\n",
    "\n",
    "import sys\n",
    "sys.path.append(\"../../05_src\")\n",
    "\n",
    "from logger import get_logger\n",
    "_logs = get_logger(__name__)"
   ]
  },
  {
   "cell_type": "code",
   "execution_count": 2,
   "metadata": {},
   "outputs": [],
   "source": [
    "import dask\n",
    "dask.config.set({'dataframe.query-planning': True})\n",
    "import dask.dataframe as dd\n",
    "import pandas as pd\n",
    "import numpy as np\n",
    "import os\n",
    "from glob import glob"
   ]
  },
  {
   "cell_type": "code",
   "execution_count": 3,
   "metadata": {},
   "outputs": [],
   "source": [
    "ft_dir = os.getenv(\"FEATURES_DATA\")\n",
    "ft_glob = glob(ft_dir+'/*.parquet')\n",
    "df = dd.read_parquet(ft_glob).compute().reset_index()"
   ]
  },
  {
   "cell_type": "markdown",
   "metadata": {},
   "source": [
    "## Data Preparation\n",
    "\n",
    "+ First, prepare four datasets, each with returns between March of a given year and March of the following year.\n",
    "+ For each data set, we can compute some descriptive statistics.\n",
    "+ We observe that there may be some distribution changes."
   ]
  },
  {
   "cell_type": "code",
   "execution_count": 4,
   "metadata": {},
   "outputs": [],
   "source": [
    "df_2018 = df[(df['Date'] >= '2018-03-01') & (df['Date']  < '2019-03-01')]\n",
    "df_2019 = df[(df['Date'] >= '2019-03-01') & (df['Date']  < '2020-03-01')]\n",
    "df_2020 = df[(df['Date'] >= '2020-03-01') & (df['Date']  < '2021-03-01')]\n",
    "df_2021 = df[(df['Date'] >= '2021-03-01') & (df['Date']  < '2022-03-01')]\n",
    "df_2022 = df[(df['Date'] >= '2022-03-01') & (df['Date']  < '2023-03-01')]"
   ]
  },
  {
   "cell_type": "code",
   "execution_count": 5,
   "metadata": {},
   "outputs": [
    {
     "data": {
      "text/plain": [
       "count    121490.000000\n",
       "mean          0.008862\n",
       "std           0.340117\n",
       "min          -0.973106\n",
       "25%          -0.007950\n",
       "50%           0.000912\n",
       "75%           0.009282\n",
       "max          61.683842\n",
       "Name: returns, dtype: float64"
      ]
     },
     "execution_count": 5,
     "metadata": {},
     "output_type": "execute_result"
    }
   ],
   "source": [
    "df_2018['returns'].describe()"
   ]
  },
  {
   "cell_type": "code",
   "execution_count": 6,
   "metadata": {},
   "outputs": [
    {
     "data": {
      "text/plain": [
       "count    123327.000000\n",
       "mean          0.008416\n",
       "std           0.281940\n",
       "min          -0.892941\n",
       "25%          -0.007516\n",
       "50%           0.001028\n",
       "75%           0.008948\n",
       "max          40.907243\n",
       "Name: returns, dtype: float64"
      ]
     },
     "execution_count": 6,
     "metadata": {},
     "output_type": "execute_result"
    }
   ],
   "source": [
    "df_2019['returns'].describe()"
   ]
  },
  {
   "cell_type": "code",
   "execution_count": 7,
   "metadata": {},
   "outputs": [
    {
     "data": {
      "text/plain": [
       "count    123499.000000\n",
       "mean          0.010048\n",
       "std           0.486798\n",
       "min          -0.794548\n",
       "25%          -0.012919\n",
       "50%           0.001297\n",
       "75%           0.016129\n",
       "max         136.020301\n",
       "Name: returns, dtype: float64"
      ]
     },
     "execution_count": 7,
     "metadata": {},
     "output_type": "execute_result"
    }
   ],
   "source": [
    "df_2020['returns'].describe()"
   ]
  },
  {
   "cell_type": "code",
   "execution_count": 8,
   "metadata": {},
   "outputs": [
    {
     "data": {
      "text/plain": [
       "count    124735.000000\n",
       "mean          0.011876\n",
       "std           0.435168\n",
       "min          -0.839560\n",
       "25%          -0.008815\n",
       "50%           0.000739\n",
       "75%           0.010304\n",
       "max          85.929291\n",
       "Name: returns, dtype: float64"
      ]
     },
     "execution_count": 8,
     "metadata": {},
     "output_type": "execute_result"
    }
   ],
   "source": [
    "df_2021['returns'].describe()"
   ]
  },
  {
   "cell_type": "code",
   "execution_count": 9,
   "metadata": {},
   "outputs": [
    {
     "data": {
      "text/plain": [
       "count    124021.000000\n",
       "mean          0.009247\n",
       "std           0.298627\n",
       "min          -0.783247\n",
       "25%          -0.012258\n",
       "50%           0.000171\n",
       "75%           0.012640\n",
       "max          52.553910\n",
       "Name: returns, dtype: float64"
      ]
     },
     "execution_count": 9,
     "metadata": {},
     "output_type": "execute_result"
    }
   ],
   "source": [
    "df_2022['returns'].describe()"
   ]
  },
  {
   "cell_type": "markdown",
   "metadata": {},
   "source": [
    "# Komogorov-Smirnov Test\n",
    "\n",
    "+ The KS test can be accessed via the scipy library: `scipy.stats.kstest`\n",
    "+ This function can be used to perform two sample tests.\n",
    "+ The null hypothesis is that the two distributions are identical."
   ]
  },
  {
   "cell_type": "code",
   "execution_count": 10,
   "metadata": {},
   "outputs": [
    {
     "data": {
      "text/plain": [
       "KstestResult(statistic=0.012290504975285277, pvalue=1.850509583438257e-08, statistic_location=0.017902198410837622, statistic_sign=-1)"
      ]
     },
     "execution_count": 10,
     "metadata": {},
     "output_type": "execute_result"
    }
   ],
   "source": [
    "from scipy.stats import kstest\n",
    "\n",
    "kstest(df_2018['returns'].dropna(), \n",
    "       df_2019['returns'].dropna())"
   ]
  },
  {
   "cell_type": "code",
   "execution_count": 11,
   "metadata": {},
   "outputs": [
    {
     "data": {
      "text/plain": [
       "KstestResult(statistic=0.13591212536833863, pvalue=0.0, statistic_location=0.01746190224532107, statistic_sign=1)"
      ]
     },
     "execution_count": 11,
     "metadata": {},
     "output_type": "execute_result"
    }
   ],
   "source": [
    "kstest(df_2019['returns'].dropna(), \n",
    "       df_2020['returns'].dropna())"
   ]
  },
  {
   "cell_type": "code",
   "execution_count": 12,
   "metadata": {},
   "outputs": [
    {
     "data": {
      "text/plain": [
       "KstestResult(statistic=0.10015613356025355, pvalue=0.0, statistic_location=0.017609724541885585, statistic_sign=-1)"
      ]
     },
     "execution_count": 12,
     "metadata": {},
     "output_type": "execute_result"
    }
   ],
   "source": [
    "kstest(df_2020['returns'].dropna(), \n",
    "       df_2021['returns'].dropna())"
   ]
  },
  {
   "cell_type": "code",
   "execution_count": 13,
   "metadata": {},
   "outputs": [
    {
     "data": {
      "text/plain": [
       "KstestResult(statistic=0.06202337702997382, pvalue=2.053099238782615e-208, statistic_location=-0.011759943380979188, statistic_sign=-1)"
      ]
     },
     "execution_count": 13,
     "metadata": {},
     "output_type": "execute_result"
    }
   ],
   "source": [
    "kstest(df_2021['returns'].dropna(), \n",
    "       df_2022['returns'].dropna())"
   ]
  }
 ],
 "metadata": {
  "kernelspec": {
   "display_name": "dsi_participant",
   "language": "python",
   "name": "python3"
  },
  "language_info": {
   "codemirror_mode": {
    "name": "ipython",
    "version": 3
   },
   "file_extension": ".py",
   "mimetype": "text/x-python",
   "name": "python",
   "nbconvert_exporter": "python",
   "pygments_lexer": "ipython3",
   "version": "3.9.19"
  }
 },
 "nbformat": 4,
 "nbformat_minor": 2
}
